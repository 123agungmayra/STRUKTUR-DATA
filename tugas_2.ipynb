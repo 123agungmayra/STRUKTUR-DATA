{
  "nbformat": 4,
  "nbformat_minor": 0,
  "metadata": {
    "colab": {
      "name": "tugas 2",
      "provenance": []
    },
    "kernelspec": {
      "name": "python3",
      "display_name": "Python 3"
    },
    "language_info": {
      "name": "python"
    }
  },
  "cells": [
    {
      "cell_type": "code",
      "execution_count": 1,
      "metadata": {
        "colab": {
          "base_uri": "https://localhost:8080/"
        },
        "id": "jzWQXCINFsB7",
        "outputId": "42cfa899-9b1d-4421-d779-5f0696ad3723"
      },
      "outputs": [
        {
          "output_type": "stream",
          "name": "stdout",
          "text": [
            "[None None None None None None None None None None]\n"
          ]
        }
      ],
      "source": [
        "import numpy as np\n",
        "arr = np.empty(10, dtype=object)\n",
        "print(arr)"
      ]
    },
    {
      "cell_type": "markdown",
      "source": [
        ""
      ],
      "metadata": {
        "id": "2keRKe4rF9M0"
      }
    },
    {
      "cell_type": "code",
      "source": [
        "import numpy as np\n",
        "arr = np.array([4, 3, 2, 1])\n",
        "print(arr)"
      ],
      "metadata": {
        "colab": {
          "base_uri": "https://localhost:8080/"
        },
        "id": "HKN2kK90GBoZ",
        "outputId": "9f158689-56f8-4319-c4a5-78c8c1718bb1"
      },
      "execution_count": 2,
      "outputs": [
        {
          "output_type": "stream",
          "name": "stdout",
          "text": [
            "[4 3 2 1]\n"
          ]
        }
      ]
    },
    {
      "cell_type": "code",
      "source": [
        "import numpy as np\n",
        "arr = np.array([[1,2,3,4,5], [6,7,8,9,10]])\n",
        "print(arr)"
      ],
      "metadata": {
        "colab": {
          "base_uri": "https://localhost:8080/"
        },
        "id": "x9IqXo67HHU0",
        "outputId": "ab4b3c01-f8fe-4018-9096-b78d53ae90f9"
      },
      "execution_count": 3,
      "outputs": [
        {
          "output_type": "stream",
          "name": "stdout",
          "text": [
            "[[ 1  2  3  4  5]\n",
            " [ 6  7  8  9 10]]\n"
          ]
        }
      ]
    },
    {
      "cell_type": "code",
      "source": [
        "import numpy as np\n",
        "arr = np.array([[[1, 2, 3], [4, 5, 6]], [[7, 8, 9],\n",
        "[10, 11, 12]]])\n",
        "print(arr)\n"
      ],
      "metadata": {
        "colab": {
          "base_uri": "https://localhost:8080/"
        },
        "id": "nl1dYzJQHWFg",
        "outputId": "3e361b23-8873-4903-98a2-f5d32d6937fb"
      },
      "execution_count": 4,
      "outputs": [
        {
          "output_type": "stream",
          "name": "stdout",
          "text": [
            "[[[ 1  2  3]\n",
            "  [ 4  5  6]]\n",
            "\n",
            " [[ 7  8  9]\n",
            "  [10 11 12]]]\n"
          ]
        }
      ]
    },
    {
      "cell_type": "code",
      "source": [
        "data_siswa=[[132,133,134],[1,1,3]]\n",
        "print(data_siswa)"
      ],
      "metadata": {
        "colab": {
          "base_uri": "https://localhost:8080/"
        },
        "id": "bA5oVqEUHiRK",
        "outputId": "3542edf9-8d0c-49f3-a49b-8d4d8c3e7c55"
      },
      "execution_count": 5,
      "outputs": [
        {
          "output_type": "stream",
          "name": "stdout",
          "text": [
            "[[132, 133, 134], [1, 1, 3]]\n"
          ]
        }
      ]
    },
    {
      "cell_type": "code",
      "source": [
        "data_siswa = [[132, 133, 134],[1, 3], [\"Dono\",\n",
        "\"Kasino\", \"Indro\"]]\n",
        "print(data_siswa)"
      ],
      "metadata": {
        "colab": {
          "base_uri": "https://localhost:8080/"
        },
        "id": "pOI7KEzXHkT4",
        "outputId": "285b8de0-5b02-469e-8a7c-9765c8cc84a6"
      },
      "execution_count": 6,
      "outputs": [
        {
          "output_type": "stream",
          "name": "stdout",
          "text": [
            "[[132, 133, 134], [1, 3], ['Dono', 'Kasino', 'Indro']]\n"
          ]
        }
      ]
    },
    {
      "cell_type": "code",
      "source": [
        "import numpy as np\n",
        "arr = np.array([4, 3, 2, 1])\n",
        "print(arr[1])"
      ],
      "metadata": {
        "colab": {
          "base_uri": "https://localhost:8080/"
        },
        "id": "oBLXjA2sH18S",
        "outputId": "b49590b6-dcf2-40ae-8308-c68c7a2f5185"
      },
      "execution_count": 7,
      "outputs": [
        {
          "output_type": "stream",
          "name": "stdout",
          "text": [
            "3\n"
          ]
        }
      ]
    },
    {
      "cell_type": "code",
      "source": [
        "import numpy as np\n",
        "arr = np.array([4, 3, 2, 1])\n",
        "for x in arr:\n",
        " print(x)\n"
      ],
      "metadata": {
        "colab": {
          "base_uri": "https://localhost:8080/"
        },
        "id": "oC3BIkWOH7xZ",
        "outputId": "48f630df-01fa-44b5-9f05-7e0db6203df2"
      },
      "execution_count": 8,
      "outputs": [
        {
          "output_type": "stream",
          "name": "stdout",
          "text": [
            "4\n",
            "3\n",
            "2\n",
            "1\n"
          ]
        }
      ]
    },
    {
      "cell_type": "code",
      "source": [
        "import numpy as np\n",
        "arr = np.array([4, 3, 2, 1])\n",
        "print(arr[1])\n",
        "arr[1] = 10;\n",
        "print(arr[1])\n"
      ],
      "metadata": {
        "colab": {
          "base_uri": "https://localhost:8080/"
        },
        "id": "A7y3tJ8YIpfK",
        "outputId": "d6755a05-f29f-4c91-f3c8-baf6407d2e12"
      },
      "execution_count": 9,
      "outputs": [
        {
          "output_type": "stream",
          "name": "stdout",
          "text": [
            "3\n",
            "10\n"
          ]
        }
      ]
    },
    {
      "cell_type": "code",
      "source": [
        "import numpy as np\n",
        "arr = np.array([[1,2,3,4,5], [6,7,8,9,10]])\n",
        "print(arr[1,1])"
      ],
      "metadata": {
        "colab": {
          "base_uri": "https://localhost:8080/"
        },
        "id": "Q724rIJrIscx",
        "outputId": "595a3489-3071-4369-b9e7-2bc1db4ac260"
      },
      "execution_count": 10,
      "outputs": [
        {
          "output_type": "stream",
          "name": "stdout",
          "text": [
            "7\n"
          ]
        }
      ]
    },
    {
      "cell_type": "code",
      "source": [
        "import numpy as np\n",
        "arr = np.array([[1,2,3,4,5], [6,7,8,9,10]])\n",
        "print(arr[1,1])\n",
        "arr[1][1] = 100;\n",
        "print(arr[1,1])"
      ],
      "metadata": {
        "colab": {
          "base_uri": "https://localhost:8080/"
        },
        "id": "9HxZUjksJR-e",
        "outputId": "263265d4-0ec6-45a8-d5dc-990cf2bb95aa"
      },
      "execution_count": 12,
      "outputs": [
        {
          "output_type": "stream",
          "name": "stdout",
          "text": [
            "7\n",
            "100\n"
          ]
        }
      ]
    },
    {
      "cell_type": "code",
      "source": [
        "import numpy as np\n",
        "arr = np.array([[[1, 2, 3], [4, 5, 6]], [[7, 8, 9],\n",
        "[10, 11, 12]]])\n",
        "print(arr[0, 1, 2])"
      ],
      "metadata": {
        "colab": {
          "base_uri": "https://localhost:8080/"
        },
        "id": "LDHe8Pn-Jf40",
        "outputId": "731b01ce-7dfd-4292-e084-63bedb0fce5d"
      },
      "execution_count": 13,
      "outputs": [
        {
          "output_type": "stream",
          "name": "stdout",
          "text": [
            "6\n"
          ]
        }
      ]
    },
    {
      "cell_type": "code",
      "source": [
        "import numpy as np\n",
        "arr = np.array([[[1, 2, 3], [4, 5, 6]], [[7, 8, 9],\n",
        "[10, 11, 12]]])\n",
        "print(arr[0, 1, 2])\n",
        "arr[0][1][2] = 100;\n",
        "print(arr[0, 1, 2])\n"
      ],
      "metadata": {
        "colab": {
          "base_uri": "https://localhost:8080/"
        },
        "id": "sQxQwoU8Jxpb",
        "outputId": "68d8fb8e-d89b-44e0-b647-6db416fa0ac7"
      },
      "execution_count": 14,
      "outputs": [
        {
          "output_type": "stream",
          "name": "stdout",
          "text": [
            "6\n",
            "100\n"
          ]
        }
      ]
    },
    {
      "cell_type": "code",
      "source": [
        "data_siswa=[[132,133,134],[1,1,3]]\n",
        "print(data_siswa)"
      ],
      "metadata": {
        "colab": {
          "base_uri": "https://localhost:8080/"
        },
        "id": "gj0nyJIMKPiE",
        "outputId": "e27d4b7c-a6ec-4397-8910-7cb611508063"
      },
      "execution_count": 17,
      "outputs": [
        {
          "output_type": "stream",
          "name": "stdout",
          "text": [
            "[[132, 133, 134], [1, 1, 3]]\n"
          ]
        }
      ]
    },
    {
      "cell_type": "code",
      "source": [
        "data_siswa=[[132, 133, 134],[1, 3], [\"Dono\",\n",
        "\"Kasino\", \"Indro\"]]\n",
        "print(data_siswa[2][1])\n"
      ],
      "metadata": {
        "colab": {
          "base_uri": "https://localhost:8080/"
        },
        "id": "9WxpIbz-KSXg",
        "outputId": "f4dd62c3-b8e4-4981-ec3b-1693a949417f"
      },
      "execution_count": 18,
      "outputs": [
        {
          "output_type": "stream",
          "name": "stdout",
          "text": [
            "Kasino\n"
          ]
        }
      ]
    },
    {
      "cell_type": "code",
      "source": [
        "data_siswa=[[132, 133, 134],[1, 3], [\"Dono\", \"Kasino\", \"Indro\"]]\n",
        "print(data_siswa[2][1])\n",
        "data_siswa[2][1] = \"Ketut\"\n",
        "print(data_siswa[2][1]);\n"
      ],
      "metadata": {
        "colab": {
          "base_uri": "https://localhost:8080/"
        },
        "id": "jqhTeF7hKzpu",
        "outputId": "4f8b1528-1f7b-457a-c583-af09db0dec6a"
      },
      "execution_count": 23,
      "outputs": [
        {
          "output_type": "stream",
          "name": "stdout",
          "text": [
            "Kasino\n",
            "Ketut\n"
          ]
        }
      ]
    },
    {
      "cell_type": "code",
      "source": [
        "import numpy as np\n",
        "arrku = np.array([1,2,3,4,5])\n",
        "print(\"Nilai minimal = \", arrku.min())\n",
        "print(\"Nilai maksimal = \", arrku.max())\n",
        "print(\"Nilai rata-rata = \", arrku.mean())\n",
        "print(\"Total nilai = \", arrku.sum())\n",
        "print(\"Standar Deviasi = \", arrku.std())"
      ],
      "metadata": {
        "colab": {
          "base_uri": "https://localhost:8080/"
        },
        "id": "KENJ_OvBLLbM",
        "outputId": "8075ece5-2b9c-4344-f6a2-0a410045448b"
      },
      "execution_count": 24,
      "outputs": [
        {
          "output_type": "stream",
          "name": "stdout",
          "text": [
            "Nilai minimal =  1\n",
            "Nilai maksimal =  5\n",
            "Nilai rata-rata =  3.0\n",
            "Total nilai =  15\n",
            "Standar Deviasi =  1.4142135623730951\n"
          ]
        }
      ]
    }
  ]
}